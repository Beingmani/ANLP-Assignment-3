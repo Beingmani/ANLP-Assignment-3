{
  "cells": [
    {
      "cell_type": "code",
      "execution_count": null,
      "metadata": {
        "id": "PV0BYHmX8X7Z"
      },
      "outputs": [],
      "source": [
        "!pip install stanfordnlp\n",
        "!pip install stanza\n",
        "!pip install vaderSentiment"
      ]
    },
    {
      "cell_type": "code",
      "execution_count": null,
      "metadata": {
        "id": "NYXf7ThGTZuw",
        "colab": {
          "base_uri": "https://localhost:8080/"
        },
        "outputId": "cfd7e812-f91d-4e28-ee68-c5b5484e975f"
      },
      "outputs": [
        {
          "output_type": "stream",
          "name": "stdout",
          "text": [
            "[nltk_data] Downloading package stopwords to /root/nltk_data...\n",
            "[nltk_data]   Unzipping corpora/stopwords.zip.\n"
          ]
        }
      ],
      "source": [
        "import nltk\n",
        "nltk.download('stopwords')\n",
        "from nltk.corpus import stopwords\n",
        "from nltk.corpus import wordnet\n",
        "from nltk.tokenize import word_tokenize, sent_tokenize\n",
        "from nltk.stem.wordnet import WordNetLemmatizer \n",
        "import stanfordnlp\n",
        "import xml.etree.ElementTree as ET\n",
        "import io\n",
        "%matplotlib inline\n",
        "import re\n",
        "import matplotlib\n",
        "import numpy as np\n",
        "import matplotlib.pyplot as plt\n",
        "import pandas as pd\n",
        "from sklearn.model_selection import train_test_split\n",
        "from sklearn.feature_extraction.text import TfidfVectorizer\n",
        "from sklearn.naive_bayes import MultinomialNB\n",
        "from sklearn.multiclass import OneVsRestClassifier\n",
        "stop_words = set(stopwords.words('english'))\n",
        "from sklearn.svm import LinearSVC\n",
        "from sklearn.linear_model import LogisticRegression\n",
        "from sklearn.pipeline import Pipeline\n",
        "import seaborn as sns"
      ]
    },
    {
      "cell_type": "code",
      "execution_count": null,
      "metadata": {
        "id": "5lKOdk433bwG"
      },
      "outputs": [],
      "source": [
        "from tqdm.notebook import tqdm\n",
        "from nltk.stem import PorterStemmer"
      ]
    },
    {
      "cell_type": "code",
      "execution_count": null,
      "metadata": {
        "id": "oLWObc1E_SfF"
      },
      "outputs": [],
      "source": [
        "from sklearn.metrics import f1_score, precision_score, recall_score, accuracy_score"
      ]
    },
    {
      "cell_type": "code",
      "execution_count": null,
      "metadata": {
        "id": "Zv3Yweoj3Z5s"
      },
      "outputs": [],
      "source": [
        "def iterate_sentence(sentences):\n",
        "    sentence_attributes = sentences.attrib\n",
        "    print(sentence_attributes)\n",
        "    \n",
        "xml_data = 'Restaurants.xml'\n",
        "etree = ET.parse(xml_data)\n",
        "data = []\n",
        "distinct_categories = set()\n",
        "# Categories split\n",
        "for sentence in etree.iter('sentence'):\n",
        "  aspect_cats = [ac.attrib for ac in sentence.find('aspectCategories')]\n",
        "  for cat in aspect_cats:\n",
        "    distinct_categories.add(cat['category'])\n",
        "\n",
        "for sentence in etree.iter('sentence'):\n",
        "    sentence_id = sentence.attrib.get('id')\n",
        "    text = sentence.find('text').text # [0].text\n",
        "    aspect_terms = [at.attrib for at in sentence.find('aspectTerms')] if sentence.find('aspectTerms') else []\n",
        "    aspect_cats = [ac.attrib for ac in sentence.find('aspectCategories')]\n",
        "    all_cats = {i: True for i in distinct_categories}\n",
        "    for cat in aspect_cats:\n",
        "        all_cats[cat['category']] = False if cat['polarity'] == 'negative' else True\n",
        "    curr_data = {\n",
        "        'sentence_id': sentence_id,\n",
        "        'text': text,\n",
        "        'aspect_terms': aspect_terms,\n",
        "        'aspect_cats': aspect_cats\n",
        "    }\n",
        "    curr_data.update(all_cats)\n",
        "    data.append(curr_data)\n",
        "print(len(data))\n",
        "# print(ET.parse(xml_data).getroot())\n",
        "# iterate_sentence(ET.parse(xml_data).getroot())"
      ]
    },
    {
      "cell_type": "code",
      "execution_count": null,
      "metadata": {
        "id": "6yjRVECE8X-H"
      },
      "outputs": [],
      "source": [
        "df_full = pd.DataFrame(data)\n",
        "df = df_full.drop(['aspect_terms', 'aspect_cats'], axis=1)\n",
        "df.head(10)"
      ]
    },
    {
      "cell_type": "code",
      "execution_count": null,
      "metadata": {
        "id": "cKyLjBGA62T6"
      },
      "outputs": [],
      "source": [
        "df_cats = df.drop(['sentence_id', 'text'], axis=1)\n",
        "counts = []\n",
        "categories = list(df_cats.columns.values)\n",
        "for i in categories:\n",
        "    counts.append((i, df_cats[i].sum()))\n",
        "df_stats = pd.DataFrame(counts, columns=['category', 'number_of_comments'])\n",
        "df_stats"
      ]
    },
    {
      "cell_type": "code",
      "execution_count": null,
      "metadata": {
        "id": "Rhmx3Qil6tRu",
        "colab": {
          "base_uri": "https://localhost:8080/",
          "height": 487
        },
        "outputId": "071cc24e-78b6-4001-9ddd-34748257e296"
      },
      "outputs": [
        {
          "output_type": "execute_result",
          "data": {
            "text/plain": [
              "Text(0.5, 0, 'category')"
            ]
          },
          "metadata": {},
          "execution_count": 26
        },
        {
          "output_type": "display_data",
          "data": {
            "text/plain": [
              "<Figure size 576x360 with 1 Axes>"
            ],
            "image/png": "[encoded data removed]"
          },
          "metadata": {
            "needs_background": "light"
          }
        }
      ],
      "source": [
        "df_stats.plot(x='category', y='number_of_comments', kind='bar', legend=False, grid=True, figsize=(8, 5))\n",
        "plt.title(\"Number of comments per category\")\n",
        "plt.ylabel('# of Occurrences', fontsize=12)\n",
        "plt.xlabel('category', fontsize=12)"
      ]
    },
    {
      "cell_type": "code",
      "execution_count": null,
      "metadata": {
        "id": "5JK7BkSK86GQ",
        "colab": {
          "base_uri": "https://localhost:8080/",
          "height": 427
        },
        "outputId": "95de04eb-ab5b-4163-b6a0-d4868a0933a2"
      },
      "outputs": [
        {
          "output_type": "stream",
          "name": "stderr",
          "text": [
            "/usr/local/lib/python3.7/dist-packages/seaborn/_decorators.py:43: FutureWarning: Pass the following variables as keyword args: x, y. From version 0.12, the only valid positional argument will be `data`, and passing other arguments without an explicit keyword will result in an error or misinterpretation.\n",
            "  FutureWarning\n"
          ]
        },
        {
          "output_type": "execute_result",
          "data": {
            "text/plain": [
              "Text(0.5, 0, '# of categories')"
            ]
          },
          "metadata": {},
          "execution_count": 27
        },
        {
          "output_type": "display_data",
          "data": {
            "text/plain": [
              "<Figure size 576x360 with 1 Axes>"
            ],
            "image/png": "[encoded data removed]"
          },
          "metadata": {
            "needs_background": "light"
          }
        }
      ],
      "source": [
        "rowsums = df.iloc[:,2:].sum(axis=1)\n",
        "x=rowsums.value_counts()\n",
        "#plot\n",
        "plt.figure(figsize=(8,5))\n",
        "ax = sns.barplot(x.index, x.values)\n",
        "plt.title(\"Multiple categories per comment\")\n",
        "plt.ylabel('# of Occurrences', fontsize=12)\n",
        "plt.xlabel('# of categories', fontsize=12)"
      ]
    },
    {
      "cell_type": "code",
      "execution_count": null,
      "metadata": {
        "id": "458UYDsK6tZ5"
      },
      "outputs": [],
      "source": [
        "print('Percentage of comments that are not labelled:')\n",
        "print(len(df[(df['anecdotes/miscellaneous']==0) & (df['food']==0) & (df['service']==0) & (df['price']== 0) & (df['ambience']==0)]) / len(df))"
      ]
    },
    {
      "cell_type": "code",
      "execution_count": null,
      "metadata": {
        "id": "3cHofVW06tct"
      },
      "outputs": [],
      "source": [
        "lens = df.text.str.len()\n",
        "lens.hist(bins = np.arange(0,2000,100))"
      ]
    },
    {
      "cell_type": "code",
      "execution_count": null,
      "metadata": {
        "id": "jjGyKld_6tfo"
      },
      "outputs": [],
      "source": [
        "print('Number of missing text:')\n",
        "df['text'].isnull().sum()"
      ]
    },
    {
      "cell_type": "code",
      "execution_count": null,
      "metadata": {
        "id": "no0C737I0pEg"
      },
      "outputs": [],
      "source": [
        "def convert_lower_case(data):\n",
        "    return np.char.lower(data)\n",
        "\n",
        "def remove_stop_words(data):\n",
        "    stop_words = stopwords.words('english')\n",
        "    words = word_tokenize(str(data))\n",
        "    new_text = \"\"\n",
        "    for w in words:\n",
        "        if w not in stop_words and len(w) > 1:\n",
        "            new_text = new_text + \" \" + w\n",
        "    return new_text\n",
        "\n",
        "def remove_punctuation(data):\n",
        "    symbols = \"!\\\"#$%&()*+-./:;<=>?@[\\]^_`{|}~\\n\"\n",
        "    for i in range(len(symbols)):\n",
        "        data = np.char.replace(data, symbols[i], ' ')\n",
        "        data = np.char.replace(data, \"  \", \" \")\n",
        "    data = np.char.replace(data, ',', '')\n",
        "    return data\n",
        "\n",
        "def remove_apostrophe(data):\n",
        "    return np.char.replace(data, \"'\", \"\")\n",
        "\n",
        "def stemming(data):\n",
        "    stemmer= PorterStemmer()\n",
        "    \n",
        "    tokens = word_tokenize(str(data))\n",
        "    new_text = \"\"\n",
        "    for w in tokens:\n",
        "        new_text = new_text + \" \" + stemmer.stem(w)\n",
        "    return new_text\n",
        "\n",
        "def convert_numbers(data):\n",
        "    tokens = word_tokenize(str(data))\n",
        "    new_text = \"\"\n",
        "    for w in tokens:\n",
        "        try:\n",
        "            w = num2words(int(w))\n",
        "        except:\n",
        "            a = 0\n",
        "        new_text = new_text + \" \" + w\n",
        "    new_text = np.char.replace(new_text, \"-\", \" \")\n",
        "    return new_text\n",
        "\n",
        "def preprocess(data):\n",
        "    data = convert_lower_case(data)\n",
        "    data = remove_apostrophe(data)\n",
        "#     data = convert_numbers(data)\n",
        "    data = stemming(data) # needed again as we need to stem the words\n",
        "    data = remove_punctuation(data) # needed again as num2word is giving few hypens and commas fourty-one\n",
        "    data = remove_stop_words(data) # needed again as num2word is giving stop words 101 - one hundred and one\n",
        "    return data"
      ]
    },
    {
      "cell_type": "code",
      "execution_count": null,
      "metadata": {
        "id": "zFT9ZyLt6th-"
      },
      "outputs": [],
      "source": [
        "def clean_text(text):\n",
        "    text = text.lower()\n",
        "    text = re.sub(r\"what's\", \"what is \", text)\n",
        "    text = re.sub(r\"\\'s\", \" \", text)\n",
        "    text = re.sub(r\"\\'ve\", \" have \", text)\n",
        "    text = re.sub(r\"can't\", \"can not \", text)\n",
        "    text = re.sub(r\"n't\", \" not \", text)\n",
        "    text = re.sub(r\"i'm\", \"i am \", text)\n",
        "    text = re.sub(r\"\\'re\", \" are \", text)\n",
        "    text = re.sub(r\"\\'d\", \" would \", text)\n",
        "    text = re.sub(r\"\\'ll\", \" will \", text)\n",
        "    text = re.sub(r\"\\'scuse\", \" excuse \", text)\n",
        "    text = re.sub('\\W', ' ', text)\n",
        "    text = re.sub('\\s+', ' ', text)\n",
        "    text = text.strip(' ')\n",
        "    return text"
      ]
    },
    {
      "cell_type": "code",
      "execution_count": null,
      "metadata": {
        "id": "0QKG8aYb-ENh"
      },
      "outputs": [],
      "source": [
        "df['text'] = df['text'].map(lambda com : clean_text(com))\n",
        "# df['original_text'] = df['test']\n",
        "# df['text'] = df['text'].map(lambda com : preprocess(com))"
      ]
    },
    {
      "cell_type": "code",
      "execution_count": null,
      "metadata": {
        "id": "4V-vKDtw-EQr",
        "colab": {
          "base_uri": "https://localhost:8080/"
        },
        "outputId": "5b1e15c7-7bce-4686-8c8f-acbbfc044ca0"
      },
      "outputs": [
        {
          "output_type": "stream",
          "name": "stdout",
          "text": [
            "(2037,)\n",
            "(1004,)\n"
          ]
        }
      ],
      "source": [
        "categories = ['anecdotes/miscellaneous', 'food', 'service', 'price', 'ambience']\n",
        "train, test = train_test_split(df, random_state=42, test_size=0.33, shuffle=True)\n",
        "X_train, X_test = train.text, test.text\n",
        "print(X_train.shape)\n",
        "print(X_test.shape)"
      ]
    },
    {
      "cell_type": "code",
      "execution_count": null,
      "metadata": {
        "colab": {
          "base_uri": "https://localhost:8080/"
        },
        "id": "Jqp6-h4A-ETT",
        "outputId": "face7f36-713b-4772-a634-94472c631776"
      },
      "outputs": [
        {
          "output_type": "stream",
          "name": "stdout",
          "text": [
            "Processing scores for anecdotes/miscellaneous\n",
            "\n",
            " Accuracy is 93.62549800796812\n",
            " Precision is 93.62549800796812\n",
            " Recall is 100.0\n",
            " F1_score is 96.70781893004114\n",
            "\n",
            "--------------------------------------------\n",
            "\n",
            "\n",
            "Processing scores for food\n",
            "\n",
            " Accuracy is 92.52988047808765\n",
            " Precision is 92.52988047808765\n",
            " Recall is 100.0\n",
            " F1_score is 96.12002069322297\n",
            "\n",
            "--------------------------------------------\n",
            "\n",
            "\n",
            "Processing scores for service\n",
            "\n",
            " Accuracy is 92.13147410358566\n",
            " Precision is 92.13147410358566\n",
            " Recall is 100.0\n",
            " F1_score is 95.90461378952826\n",
            "\n",
            "--------------------------------------------\n",
            "\n",
            "\n",
            "Processing scores for price\n",
            "\n",
            " Accuracy is 96.21513944223108\n",
            " Precision is 96.21513944223108\n",
            " Recall is 100.0\n",
            " F1_score is 98.07106598984771\n",
            "\n",
            "--------------------------------------------\n",
            "\n",
            "\n",
            "Processing scores for ambience\n",
            "\n",
            " Accuracy is 96.71314741035857\n",
            " Precision is 96.71314741035857\n",
            " Recall is 100.0\n",
            " F1_score is 98.32911392405063\n",
            "\n",
            "--------------------------------------------\n",
            "\n",
            "\n"
          ]
        }
      ],
      "source": [
        "# Define a pipeline combining a text feature extractor with multi lable classifier\n",
        "NB_pipeline = Pipeline([\n",
        "                ('tfidf', TfidfVectorizer(stop_words=stop_words)),\n",
        "                ('clf', OneVsRestClassifier(MultinomialNB(\n",
        "                    fit_prior=True, class_prior=None))),\n",
        "            ])\n",
        "for category in categories:\n",
        "    print(f'Processing scores for {category}\\n')\n",
        "    NB_pipeline.fit(X_train, train[category])\n",
        "    prediction = NB_pipeline.predict(X_test)\n",
        "    print(f' Accuracy is {accuracy_score(test[category], prediction)*100}\\n Precision is {precision_score(test[category], prediction)*100}\\n Recall is {recall_score(test[category], prediction)*100}\\n F1_score is {f1_score(test[category], prediction)*100}\\n')\n",
        "    print('--------------------------------------------')\n",
        "    print('\\n')"
      ]
    },
    {
      "cell_type": "code",
      "execution_count": null,
      "metadata": {
        "id": "RFmT-cyHiIcU"
      },
      "outputs": [],
      "source": [
        "stanfordnlp.download('en')\n",
        "nltk.download('stopwords')\n",
        "nltk.download('punkt')\n",
        "nltk.download('averaged_perceptron_tagger')\n",
        "\n",
        "import stanza\n",
        "stanza.download('en') # download English model\n",
        "nlp = stanza.Pipeline('en') "
      ]
    },
    {
      "cell_type": "code",
      "execution_count": null,
      "metadata": {
        "id": "_n3bD19YpA34"
      },
      "outputs": [],
      "source": [
        "from vaderSentiment.vaderSentiment import SentimentIntensityAnalyzer\n",
        "from textblob import TextBlob"
      ]
    },
    {
      "cell_type": "code",
      "execution_count": null,
      "metadata": {
        "id": "atYJJviu-EaP"
      },
      "outputs": [],
      "source": [
        "def vander_sentiment(sentence):\n",
        "    sid_obj = SentimentIntensityAnalyzer()\n",
        "    sentiment_dict = sid_obj.polarity_scores(str(sentence))\n",
        "    if sentiment_dict['compound'] >= 0.05 :\n",
        "        return \"Positive\"\n",
        "    elif sentiment_dict['compound'] <= - 0.05 :\n",
        "        return \"Negative\"\n",
        "    else :\n",
        "        return \"Neutral\"\n",
        "\n",
        "def blob_sentiment(sentence):\n",
        "    return TextBlob(str(sentence)).sentiment.polarity\n",
        "\n",
        "# Aspect Based Sentiment Analysis\n",
        "def get_aspect_terms(txt):\n",
        "    try:\n",
        "        txt = txt.lower() # LowerCasing the given Text\n",
        "        sentList = nltk.sent_tokenize(txt) # Splitting the text into sentences\n",
        "        stop_words = set(stopwords.words('english'))\n",
        "        fcluster = []\n",
        "        totalfeatureList = []\n",
        "        finalcluster = []\n",
        "        dic = {}\n",
        "        for line in sentList:\n",
        "            newtaggedList = []\n",
        "            txt_list = nltk.word_tokenize(line) # Splitting up into words\n",
        "            taggedList = nltk.pos_tag(txt_list) # Doing Part-of-Speech Tagging to each word\n",
        "            newwordList = []\n",
        "            flag = 0\n",
        "            for i in range(0,len(taggedList)-1):\n",
        "                if(taggedList[i][1]==\"NN\" and taggedList[i+1][1]==\"NN\"): # If two consecutive words are Nouns then they are joined together\n",
        "                    newwordList.append(taggedList[i][0]+taggedList[i+1][0])\n",
        "                    flag=1\n",
        "                else:\n",
        "                    if(flag==1):\n",
        "                        flag=0\n",
        "                        continue\n",
        "                    newwordList.append(taggedList[i][0])\n",
        "                    if(i==len(taggedList)-2):\n",
        "                        newwordList.append(taggedList[i+1][0])\n",
        "\n",
        "            finaltxt = ' '.join(word for word in newwordList) \n",
        "            new_txt_list = nltk.word_tokenize(finaltxt)\n",
        "            wordsList = [w for w in new_txt_list if not w in stop_words]\n",
        "            taggedList = nltk.pos_tag(wordsList)\n",
        "            doc = nlp(finaltxt)\n",
        "            dep_node = []\n",
        "            for dep_edge in doc.sentences[0].dependencies:\n",
        "              dep_node.append([dep_edge[2].text, dep_edge[0].id, dep_edge[1]])\n",
        "            for i in range(0, len(dep_node)):\n",
        "              if (int(dep_node[i][1]) != 0):\n",
        "                dep_node[i][1] = newwordList[(int(dep_node[i][1]) - 1)]\n",
        "\n",
        "            featureList = []\n",
        "            categories = []\n",
        "            for i in taggedList:\n",
        "                if(i[1]=='NN' or i[1]=='NNS'):\n",
        "                    featureList.append(list(i)) # For features for each sentence\n",
        "                    totalfeatureList.append(list(i)) # Stores the features of all the sentences in the text\n",
        "                    categories.append(i[0])\n",
        "            for i in featureList:\n",
        "                filist = []\n",
        "                for j in dep_node:\n",
        "                    if i[0] in j:\n",
        "                      filist.append(j[1])\n",
        "                      if j[2] in [\"neg\"]:\n",
        "                        sentiment = \"Negative\"\n",
        "                      else:\n",
        "                        sentiment = \"Neutral\"\n",
        "                    filist = [str(k) for k in filist if k != i[0]]\n",
        "                fcluster.append([i[0], filist, sentiment])\n",
        "        for i in totalfeatureList:\n",
        "            dic[i[0]] = i[1]\n",
        "\n",
        "        for i in fcluster:\n",
        "            if(dic[i[0]]==\"NN\"):\n",
        "                temp = \" \".join(i[1])\n",
        "                i.append([vander_sentiment(temp), blob_sentiment(temp)])\n",
        "                finalcluster.append(i)\n",
        "        \n",
        "        return finalcluster\n",
        "    except Exception as e:\n",
        "        print(sentiment)\n",
        "        print(e)\n",
        "        return []"
      ]
    },
    {
      "cell_type": "code",
      "execution_count": null,
      "metadata": {
        "colab": {
          "base_uri": "https://localhost:8080/"
        },
        "id": "tTAzicqi8YAa",
        "outputId": "3eef55be-b084-4b47-d627-7e11e7f276b0"
      },
      "outputs": [
        {
          "output_type": "execute_result",
          "data": {
            "text/plain": [
              "[['food', ['good'], 'Neutral', ['Positive', 0.7]],\n",
              " ['staff', ['horrible'], 'Neutral', ['Negative', -1.0]]]"
            ]
          },
          "metadata": {},
          "execution_count": 48
        }
      ],
      "source": [
        "get_aspect_terms(\"The food is good, but the staff was so horrible to us\")"
      ]
    },
    {
      "cell_type": "code",
      "execution_count": null,
      "metadata": {
        "id": "eEuZK8wk8YJ9"
      },
      "outputs": [],
      "source": [
        "df_test = df_full"
      ]
    },
    {
      "cell_type": "code",
      "execution_count": null,
      "metadata": {
        "id": "B47FztxS8YOu",
        "colab": {
          "base_uri": "https://localhost:8080/"
        },
        "outputId": "1e6d8ffc-c6e5-48d1-fb1c-7ada3fb886fe"
      },
      "outputs": [
        {
          "output_type": "execute_result",
          "data": {
            "text/plain": [
              "(3041, 9)"
            ]
          },
          "metadata": {},
          "execution_count": 25
        }
      ],
      "source": [
        "df_test.shape"
      ]
    },
    {
      "cell_type": "code",
      "execution_count": null,
      "metadata": {
        "id": "Fk60oK_V8YRS"
      },
      "outputs": [],
      "source": [
        "all_texts = df_test['text'].tolist()\n",
        "aspect_results = []\n",
        "with tqdm(total=len(all_texts)) as bar:\n",
        "  for txt in all_texts:\n",
        "      bar.update(1)\n",
        "      aspect_results.append(get_aspect_terms(txt))"
      ]
    },
    {
      "cell_type": "code",
      "execution_count": null,
      "metadata": {
        "id": "Td_ju2-R8YTn"
      },
      "outputs": [],
      "source": [
        "df_test.head()"
      ]
    },
    {
      "cell_type": "code",
      "execution_count": null,
      "metadata": {
        "id": "lPgp_5t58Ybk"
      },
      "outputs": [],
      "source": [
        "original_aspects = df_test['aspect_terms'].tolist()\n",
        "\n",
        "altered_original_aspects = []\n",
        "pos_predicted_aspects = []\n",
        "vander_predicted_aspects = []\n",
        "blob_predicted_aspects = []\n",
        "\n",
        "for asp in original_aspects:\n",
        "  if asp:\n",
        "    altered_original_aspects.append({i['term']: i['polarity'] for i in asp})\n",
        "  else:\n",
        "    altered_original_aspects.append({})\n",
        "\n",
        "for asp_res in aspect_results:\n",
        "  if asp_res:\n",
        "    pos_predicted_aspects.append({\n",
        "        i[0]: i[2] for i in asp_res\n",
        "    })\n",
        "\n",
        "    vander_predicted_aspects.append({\n",
        "        i[0]: str(i[3][0]).lower() for i in asp_res\n",
        "    })\n",
        "\n",
        "    blob_predicted_aspects.append({\n",
        "        i[0]: 'positive' if i[3][1] > 0.35 else 'negative' if i[3][1] < -0.35 else 'neutral' for i in asp_res\n",
        "    })\n",
        "  else:\n",
        "    pos_predicted_aspects.append({})\n",
        "    vander_predicted_aspects.append({})\n",
        "    blob_predicted_aspects.append({})"
      ]
    },
    {
      "cell_type": "code",
      "execution_count": null,
      "metadata": {
        "id": "OFiGDBn28YeU"
      },
      "outputs": [],
      "source": [
        "def get_sentiment_specific_aspects(all_aspects):\n",
        "  positive_aspects = []\n",
        "  negative_aspects = []\n",
        "  neutral_aspects = []\n",
        "\n",
        "  for i in all_aspects:\n",
        "    for k, v in i.items():\n",
        "      all_pos = []\n",
        "      all_negs = []\n",
        "      all_neuts = []\n",
        "      if v == 'positive':\n",
        "        all_pos.append((k, v))\n",
        "      elif v == 'negative':\n",
        "        all_negs.append((k, v))\n",
        "      else:\n",
        "        all_neuts.append((k, v))\n",
        "    positive_aspects.append(all_pos)\n",
        "    negative_aspects.append(all_negs)\n",
        "    neutral_aspects.append(all_neuts)\n",
        "  return positive_aspects, negative_aspects, neutral_aspects"
      ]
    },
    {
      "cell_type": "code",
      "source": [
        "original_positive_aspects, original_negative_aspects, original_neutral_aspects = get_sentiment_specific_aspects(altered_original_aspects)\n",
        "pos_positive_aspects, pos_negative_aspects, pos_neutral_aspects = get_sentiment_specific_aspects(pos_predicted_aspects)\n",
        "vander_positive_aspects, vander_negative_aspects, vander_neutral_aspects = get_sentiment_specific_aspects(vander_predicted_aspects)\n",
        "blob_positive_aspects, blob_negative_aspects, blob_neutral_aspects = get_sentiment_specific_aspects(blob_predicted_aspects)"
      ],
      "metadata": {
        "id": "rn-i04xAcIp3"
      },
      "execution_count": null,
      "outputs": []
    },
    {
      "cell_type": "code",
      "source": [
        "pos_accuracy = {}\n",
        "vander_accuracy = {}\n",
        "blob_accuracy = {}\n",
        "\n",
        "total_positives = 0\n",
        "total_negatives = 0\n",
        "total_neutrals = 0\n",
        "\n",
        "pos_positive_count = 0\n",
        "vander_positive_count = 0\n",
        "blob_positive_count = 0\n",
        "\n",
        "for idx, asp in enumerate(original_positive_aspects):\n",
        "  total_positives += len(asp)\n",
        "  # pos_positive_count += len(set(pos_positive_aspects[idx]) & set(asp))\n",
        "  vander_positive_count += len(set(vander_positive_aspects[idx]) & set(asp))\n",
        "  blob_positive_count += len(set(blob_positive_aspects[idx]) & set(asp))\n",
        "\n",
        "vander_accuracy['positive'] = vander_positive_count / total_positives\n",
        "blob_accuracy['positive'] = blob_positive_count / total_positives\n",
        "\n",
        "print(f\"Total positive: {total_positives}, Vander positive: {vander_positive_count}, Blob positive: {blob_positive_count}\")\n",
        "\n",
        "pos_negative_count = 0\n",
        "vander_negative_count = 0\n",
        "blob_negative_count = 0\n",
        "for idx, asp in enumerate(original_negative_aspects):\n",
        "  total_negatives += len(asp)\n",
        "  pos_negative_count += len(set(pos_negative_aspects[idx]) & set(asp))\n",
        "  vander_negative_count += len(set(vander_negative_aspects[idx]) & set(asp))\n",
        "  blob_negative_count += len(set(blob_negative_aspects[idx]) & set(asp))\n",
        "\n",
        "vander_accuracy['negative'] = vander_negative_count / total_negatives\n",
        "blob_accuracy['negative'] = blob_negative_count / total_negatives\n",
        "pos_accuracy['negative'] = pos_negative_count / total_negatives\n",
        "\n",
        "print(f\"Total negative: {total_negatives}, Vander negative: {vander_negative_count}, Blob negative: {blob_negative_count}\")\n",
        "\n",
        "pos_neutral_count = 0\n",
        "vander_neutral_count = 0\n",
        "blob_neutral_count = 0\n",
        "for idx, asp in enumerate(original_neutral_aspects):\n",
        "  total_neutrals += len(asp)\n",
        "  pos_neutral_count += len(set(pos_neutral_aspects[idx]) & set(asp))\n",
        "  vander_neutral_count += len(set(vander_neutral_aspects[idx]) & set(asp))\n",
        "  blob_neutral_count += len(set(blob_neutral_aspects[idx]) & set(asp))\n",
        "\n",
        "vander_accuracy['neutral'] = vander_neutral_count / total_neutrals\n",
        "blob_accuracy['neutral'] = blob_neutral_count / total_neutrals\n",
        "pos_accuracy['neutral'] = pos_neutral_count / total_negatives\n",
        "\n",
        "print(f\"Total neutral: {total_neutrals}, Vander neutral: {vander_neutral_count}, Blob neutral: {blob_neutral_count}\")\n",
        "\n",
        "print(f\"Accuracy: \\n Vander: {vander_accuracy},\\n  Blob: {blob_accuracy},\\n  POS: {pos_accuracy}\")"
      ],
      "metadata": {
        "colab": {
          "base_uri": "https://localhost:8080/"
        },
        "id": "7EciIRNacIsX",
        "outputId": "ed9a1e54-4414-4d74-cdda-c55fed3f1398"
      },
      "execution_count": null,
      "outputs": [
        {
          "output_type": "stream",
          "name": "stdout",
          "text": [
            "Total positive: 8, Vander positive: 1, Blob positive: 1\n",
            "Total negative: 3, Vander negative: 1, Blob negative: 1\n",
            "Total neutral: 19, Vander neutral: 2, Blob neutral: 2\n",
            "Accuracy: \n",
            " Vander: {'positive': 0.125, 'negative': 0.3333333333333333, 'neutral': 0.10526315789473684},\n",
            "  Blob: {'positive': 0.125, 'negative': 0.3333333333333333, 'neutral': 0.10526315789473684},\n",
            "  POS: {'negative': 0.0, 'neutral': 0.0}\n"
          ]
        }
      ]
    }
  ],
  "metadata": {
    "colab": {
      "collapsed_sections": [],
      "name": "Manivannan-A4-Category prediction.ipynb",
      "provenance": []
    },
    "kernelspec": {
      "display_name": "Python 3",
      "name": "python3"
    },
    "language_info": {
      "name": "python"
    }
  },
  "nbformat": 4,
  "nbformat_minor": 0
}